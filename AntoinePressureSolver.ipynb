{
  "nbformat": 4,
  "nbformat_minor": 0,
  "metadata": {
    "colab": {
      "provenance": [],
      "authorship_tag": "ABX9TyOsxUrWIbYDZVJ1vRugoZUy",
      "include_colab_link": true
    },
    "kernelspec": {
      "name": "python3",
      "display_name": "Python 3"
    },
    "language_info": {
      "name": "python"
    }
  },
  "cells": [
    {
      "cell_type": "markdown",
      "metadata": {
        "id": "view-in-github",
        "colab_type": "text"
      },
      "source": [
        "<a href=\"https://colab.research.google.com/github/krish04shah/Material-And-Energy-Balances/blob/main/AntoinePressureSolver.ipynb\" target=\"_parent\"><img src=\"https://colab.research.google.com/assets/colab-badge.svg\" alt=\"Open In Colab\"/></a>"
      ]
    },
    {
      "cell_type": "code",
      "source": [
        "from scipy.optimize import root\n",
        "\n",
        "A = 8.07131\n",
        "B = 1730.63\n",
        "C = 233.426\n",
        "\n",
        "def P_sat(T):\n",
        "  return 10**(A - B/((T - 273.15) + C))*(101325/760)\n",
        "\n",
        "R = 8.314\n",
        "Ti = 298.\n",
        "Pi = 101325.\n",
        "Pf = 200000.\n",
        "Vvap = 0.099\n",
        "n_air = (Pi * Vvap)/(R * Ti)\n",
        "\n",
        "def P_air(T):\n",
        "  return (n_air * R * T)/Vvap\n",
        "\n",
        "def P_tot(T):\n",
        "  return P_sat(T) + P_air(T) - Pf\n",
        "\n",
        "root(P_tot, 300.)"
      ],
      "metadata": {
        "colab": {
          "base_uri": "https://localhost:8080/"
        },
        "id": "Anh_yaukZpH1",
        "outputId": "ff4bb66d-24b1-46c6-89fb-84f00dd4c2f0"
      },
      "execution_count": null,
      "outputs": [
        {
          "output_type": "execute_result",
          "data": {
            "text/plain": [
              "    fjac: array([[-1.]])\n",
              "     fun: array([6.98491931e-08])\n",
              " message: 'The solution converged.'\n",
              "    nfev: 13\n",
              "     qtf: array([0.00423494])\n",
              "       r: array([-3190.9120742])\n",
              "  status: 1\n",
              " success: True\n",
              "       x: array([365.24551366])"
            ]
          },
          "metadata": {},
          "execution_count": 35
        }
      ]
    },
    {
      "cell_type": "code",
      "source": [
        "n_H2O_f = 0.3 #mol water\n",
        "m_H2O = 1.0 #kg\n",
        "\n",
        "def func(vector):\n",
        "  Vtot, T = vector\n",
        "  Vvap = Vtot - (m_H2O/1000)\n",
        "  n_air = (Pi * Vvap)/(R * Ti)\n",
        "\n",
        "  return[(P_sat(T)*Vvap)/(R*T) - n_H2O_f, P_sat(T) + P_air(T) - Pf]\n",
        "\n",
        "root(func, [0.1, 365])"
      ],
      "metadata": {
        "colab": {
          "base_uri": "https://localhost:8080/"
        },
        "id": "PSYTVLk__VjJ",
        "outputId": "0b23f9a9-2f55-4d13-e333-9d209a494dd6"
      },
      "execution_count": null,
      "outputs": [
        {
          "output_type": "execute_result",
          "data": {
            "text/plain": [
              "    fjac: array([[-9.99999999e-01,  3.34238363e-05],\n",
              "       [-3.34238363e-05, -9.99999999e-01]])\n",
              "     fun: array([7.09541709e-09, 5.82076609e-11])\n",
              " message: 'The solution converged.'\n",
              "    nfev: 7\n",
              "     qtf: array([8.22846930e-07, 1.15162256e-07])\n",
              "       r: array([-2.47522081e+01,  5.65601057e-01, -3.19096278e+03])\n",
              "  status: 1\n",
              " success: True\n",
              "       x: array([1.30167605e-02, 3.65245514e+02])"
            ]
          },
          "metadata": {},
          "execution_count": 42
        }
      ]
    },
    {
      "cell_type": "code",
      "source": [],
      "metadata": {
        "id": "tEZMB9GuNfL3"
      },
      "execution_count": null,
      "outputs": []
    }
  ]
}