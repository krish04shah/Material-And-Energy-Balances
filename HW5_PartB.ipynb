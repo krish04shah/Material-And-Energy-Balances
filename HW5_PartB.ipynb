{
  "nbformat": 4,
  "nbformat_minor": 0,
  "metadata": {
    "colab": {
      "provenance": []
    },
    "kernelspec": {
      "name": "python3",
      "display_name": "Python 3"
    },
    "language_info": {
      "name": "python"
    }
  },
  "cells": [
    {
      "cell_type": "code",
      "execution_count": null,
      "metadata": {
        "id": "sVbczZF7nLeg"
      },
      "outputs": [],
      "source": [
        "!wget -N -q https://raw.githubusercontent.com/profteachkids/chetools/main/tools/che4.ipynb -O che4.ipynb\n",
        "!python -m pip install importnb --quiet\n",
        "from importnb import Notebook\n",
        "with Notebook():\n",
        "    from che4 import Range, Comp, CompArray, RangeArray, DotDict, d2nt, Props\n",
        ""
      ]
    },
    {
      "cell_type": "code",
      "source": [
        "import numpy as np\n",
        "from scipy.optimize import root\n",
        "import jax\n",
        "import jax.numpy as jnp"
      ],
      "metadata": {
        "id": "YNVkgyr_nS96"
      },
      "execution_count": null,
      "outputs": []
    },
    {
      "cell_type": "code",
      "source": [
        "#rx1 C3H6 + H2O -> C3H7OH\n",
        "#rx2 2C3H7OH -> (C3H7)O(C3H7) + H2O\n",
        "#1. C3H6, 2. (C3H7)O(C3H7), 3. C3H7OH, 4. H2O\n",
        "\n",
        "stoich_rx1 = np.array([-1., 0., 1., -1.])\n",
        "stoich_rx2 = np.array([0., 1., -2., 1.])\n",
        "\n",
        "alkeneF = 100. #mol/s\n",
        "alkene_comp = np.array([1.,0. , 0. ,0.])\n",
        "\n",
        "waterF = 95. #mol/s\n",
        "water_comp = np.array([0., 0., 0., 1.])\n",
        "\n",
        "ether_comp = np.array([0.001, 0.9, 0.09, 0.009])\n",
        "alcohol_comp = np.array([0.001, 0.01, 0.94, 0.049])\n",
        "\n",
        "etherF = 5.\n",
        "alcoholF = 100.\n",
        "\n",
        "ext_rxn1 = 90.\n",
        "ext_rxn2 = 10."
      ],
      "metadata": {
        "id": "f_PVK34Pnopz"
      },
      "execution_count": null,
      "outputs": []
    },
    {
      "cell_type": "code",
      "source": [
        "def eqs(v):\n",
        "\n",
        "  etherF, alcoholF, ext_rxn1, ext_rxn2 = v\n",
        "\n",
        "  feed = alkeneF*alkene_comp + waterF*water_comp\n",
        "  rxns = stoich_rx1*ext_rxn1 + stoich_rx2*ext_rxn2\n",
        "  prod = etherF*ether_comp + alcoholF*alcohol_comp\n",
        "\n",
        "  return feed + rxns - prod # should be 0"
      ],
      "metadata": {
        "id": "cVft2GO_wHJD"
      },
      "execution_count": null,
      "outputs": []
    },
    {
      "cell_type": "code",
      "source": [
        "root(eqs, [etherF, alcoholF, ext_rxn1, ext_rxn2]).x"
      ],
      "metadata": {
        "colab": {
          "base_uri": "https://localhost:8080/"
        },
        "id": "thJdcoyMzIrn",
        "outputId": "de072520-e0c8-4001-c52d-a701861854ab"
      },
      "execution_count": null,
      "outputs": [
        {
          "output_type": "execute_result",
          "data": {
            "text/plain": [
              "array([ 9.26195012, 85.83314497, 99.9049049 ,  9.19408656])"
            ]
          },
          "metadata": {},
          "execution_count": 10
        }
      ]
    },
    {
      "cell_type": "code",
      "source": [],
      "metadata": {
        "id": "-C2KDLewzsQS"
      },
      "execution_count": null,
      "outputs": []
    }
  ]
}