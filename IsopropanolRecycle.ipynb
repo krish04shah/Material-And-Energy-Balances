{
  "nbformat": 4,
  "nbformat_minor": 0,
  "metadata": {
    "colab": {
      "provenance": [],
      "authorship_tag": "ABX9TyPpez6iH36y1KbUwIsRq09Z",
      "include_colab_link": true
    },
    "kernelspec": {
      "name": "python3",
      "display_name": "Python 3"
    },
    "language_info": {
      "name": "python"
    }
  },
  "cells": [
    {
      "cell_type": "markdown",
      "metadata": {
        "id": "view-in-github",
        "colab_type": "text"
      },
      "source": [
        "<a href=\"https://colab.research.google.com/github/krish04shah/Material-And-Energy-Balances/blob/main/IsopropanolRecycle.ipynb\" target=\"_parent\"><img src=\"https://colab.research.google.com/assets/colab-badge.svg\" alt=\"Open In Colab\"/></a>"
      ]
    },
    {
      "cell_type": "code",
      "execution_count": null,
      "metadata": {
        "id": "sVbczZF7nLeg"
      },
      "outputs": [],
      "source": [
        "!wget -N -q https://raw.githubusercontent.com/profteachkids/chetools/main/tools/che4.ipynb -O che4.ipynb\n",
        "!python -m pip install importnb --quiet\n",
        "from importnb import Notebook\n",
        "with Notebook():\n",
        "    from che4 import Range, Comp, CompArray, RangeArray, DotDict, d2nt, Props\n"
      ]
    },
    {
      "cell_type": "code",
      "source": [
        "import numpy as np\n",
        "from scipy.optimize import root\n",
        "import jax\n",
        "import jax.numpy as jnp"
      ],
      "metadata": {
        "id": "YNVkgyr_nS96"
      },
      "execution_count": null,
      "outputs": []
    },
    {
      "cell_type": "code",
      "source": [
        "#rx1 C3H6 + H2O -> C3H7OH\n",
        "#rx2 2C3H7OH -> (C3H7)O(C3H7) + H2O\n",
        "#1. C3H6, 2. (C3H7)O(C3H7), 3. C3H7OH, 4. H2O\n",
        "\n",
        "e = DotDict()\n",
        "\n",
        "e.stoich_rx1 = np.array([-1., 0., 1., -1.])\n",
        "e.stoich_rx2 = np.array([0., 1., -2., 1.])\n",
        "\n",
        "e.alkeneF = 100. #mol/s\n",
        "e.alkene_comp = np.array([1.,0. , 0. ,0.])\n",
        "\n",
        "e.waterF = 95. #mol/s\n",
        "e.water_comp = np.array([0., 0., 0., 1.])\n",
        "\n",
        "e.etherF = Range(5., 0., e.alkeneF/2)\n",
        "e.ether_comp = np.array([0.001, 0.9, 0.09, 0.009])\n",
        "\n",
        "e.alcoholF = Range(50., 0., e.alkeneF)\n",
        "e.alcohol_comp = np.array([0.001, 0.01, 0.94, 0.049])\n",
        "\n",
        "e.ext_rxn1 = Range(e.alkeneF/2, 0., e.alkeneF)\n",
        "e.ext_rxn2 = Range(e.alkeneF/4, 0., e.alkeneF/2)\n",
        "\n",
        "e.WARFR = 12. # Water-Alkene Reactor Feed Rate\n",
        "\n",
        "e.D1F = Range(e.WARFR*e.alkeneF, 0., 2.* e.WARFR*e.alkeneF)\n",
        "e.D1F_comp = Comp([ 0.01 ,0.03, 0.06,0.9])\n",
        "\n",
        "e.D1d = Range(e.WARFR*e.alkeneF/2, 0., 2.* e.WARFR*e.alkeneF)\n",
        "e.D1d_comp = Comp([0.01,0.33, 0.33, 0.33])\n",
        "\n",
        "e.D1B = Range(e.WARFR*e.alkeneF/2, 0., 2.* e.WARFR*e.alkeneF)\n",
        "e.D1B_comp = Comp([0.0001,0.1,0.1,0.8])\n",
        "\n",
        "e.decanterW = Range(e.WARFR*e.alkeneF, 0., 2.* e.WARFR*e.alkeneF)\n",
        "e.decanterW_comp = np.array([ 0.00001 , 0.002, 0.018, 0.98])\n",
        "\n",
        "e.D1K = np.array([100., 10., 5., 0.2])"
      ],
      "metadata": {
        "id": "f_PVK34Pnopz"
      },
      "execution_count": null,
      "outputs": []
    },
    {
      "cell_type": "code",
      "source": [
        "x0, x2nt, wrap, x2unk, const = d2nt(e)"
      ],
      "metadata": {
        "id": "dHdetL0qJWUu"
      },
      "execution_count": null,
      "outputs": []
    },
    {
      "cell_type": "code",
      "source": [
        "def eqs(d):\n",
        "\n",
        "  feed = d.alkeneF*d.alkene_comp + d.waterF*d.water_comp\n",
        "  rxns = d.stoich_rx1*d.ext_rxn1 + d.stoich_rx2*d.ext_rxn2\n",
        "  prod = d.etherF*d.ether_comp + d.alcoholF*d.alcohol_comp\n",
        "\n",
        "  return feed + rxns - prod # should be 0"
      ],
      "metadata": {
        "id": "cVft2GO_wHJD"
      },
      "execution_count": null,
      "outputs": []
    },
    {
      "cell_type": "code",
      "source": [
        "def eqs2(d):\n",
        "    reactor_feed = d.alkeneF*d.alkene_comp + d.waterF*d.water_comp + d.D1B*d.D1B_comp + d.decanterW*d.decanterW_comp\n",
        "    rxns = d.stoich_rx1*d.ext_rxn1 + d.stoich_rx2*d.ext_rxn2\n",
        "    reactor_prod = d.D1F*d.D1F_comp\n",
        "\n",
        "    WARFR_CONSTRAINT = (d.waterF + d.D1B + d.decanterW)/d.alkeneF - d.WARFR\n",
        "\n",
        "    REACTOR_BALANCE = reactor_feed + rxns - reactor_prod\n",
        "\n",
        "    D1_BALANCE = d.D1F*d.D1F_comp - d.D1B*d.D1B_comp - d.D1d*d.D1d_comp\n",
        "    D1_VLE = d.D1d_comp/d.D1B_comp - d.D1K\n",
        "\n",
        "    AZ_BALANCE = d.D1d*d.D1d_comp -  d.decanterW*d.decanterW_comp -  d.etherF*d.ether_comp - d.alcoholF*d.alcohol_comp\n",
        "\n",
        "    return jnp.concatenate([REACTOR_BALANCE, D1_BALANCE, D1_VLE, AZ_BALANCE, jnp.atleast_1d(WARFR_CONSTRAINT)])"
      ],
      "metadata": {
        "id": "sqZRLVbmXnCO"
      },
      "execution_count": null,
      "outputs": []
    },
    {
      "cell_type": "code",
      "source": [
        "wrapped_eqs2 = wrap(eqs2)"
      ],
      "metadata": {
        "id": "6mr5GNjmr_K7"
      },
      "execution_count": null,
      "outputs": []
    },
    {
      "cell_type": "code",
      "source": [
        "sol = root(wrapped_eqs2, x0, jac = jax.jacobian(wrapped_eqs2))\n",
        "print(sol)"
      ],
      "metadata": {
        "colab": {
          "base_uri": "https://localhost:8080/"
        },
        "id": "90i2beVcsEdd",
        "outputId": "b119ad63-1a50-4ecd-ec19-8d68151ac044"
      },
      "execution_count": null,
      "outputs": [
        {
          "output_type": "stream",
          "name": "stdout",
          "text": [
            " message: The solution converged.\n",
            " success: True\n",
            "  status: 1\n",
            "     fun: [-1.328e-09  2.242e-11 ...  6.465e-12 -1.776e-15]\n",
            "       x: [-1.481e+00  1.802e+00 ... -1.730e+00 -5.106e+00]\n",
            "    nfev: 39\n",
            "    njev: 3\n",
            "    fjac: [[ 1.002e-07 -4.482e-11 ...  9.950e-03  2.228e-13]\n",
            "           [-6.596e-08  3.293e-11 ...  5.127e-02 -1.314e-13]\n",
            "           ...\n",
            "           [-5.077e-02 -4.135e-02 ...  1.056e-01 -5.908e-10]\n",
            "           [-6.552e-04 -1.908e-03 ... -9.267e-03  1.155e-10]]\n",
            "       r: [-6.826e+00 -1.264e+00 ... -6.375e-01  1.216e-01]\n",
            "     qtf: [ 3.814e-11 -2.420e-10 ... -5.214e-13  1.205e-13]\n"
          ]
        }
      ]
    },
    {
      "cell_type": "code",
      "source": [
        "x2unk(sol.x)._asdict()"
      ],
      "metadata": {
        "colab": {
          "base_uri": "https://localhost:8080/"
        },
        "id": "Ky3JXwu8sKmL",
        "outputId": "873ec423-f52f-44e9-b2c5-bf482cc4b780"
      },
      "execution_count": null,
      "outputs": [
        {
          "output_type": "execute_result",
          "data": {
            "text/plain": [
              "{'etherF': Array(9.26195012, dtype=float64),\n",
              " 'alcoholF': Array(85.83314497, dtype=float64),\n",
              " 'ext_rxn1': Array(99.9049049, dtype=float64),\n",
              " 'ext_rxn2': Array(9.19408656, dtype=float64),\n",
              " 'D1F': Array(1200.09523964, dtype=float64),\n",
              " 'D1F_comp': Array([8.72602370e-05, 1.53357353e-02, 2.03810648e-01, 7.80766356e-01],      dtype=float64),\n",
              " 'D1d': Array(109.54926493, dtype=float64),\n",
              " 'D1d_comp': Array([0.00086938, 0.08419038, 0.74648519, 0.16845505], dtype=float64),\n",
              " 'D1B': Array(1090.5459747, dtype=float64),\n",
              " 'D1B_comp': Array([8.69377219e-06, 8.41903833e-03, 1.49297039e-01, 8.42275229e-01],      dtype=float64),\n",
              " 'decanterW': Array(14.4540253, dtype=float64)}"
            ]
          },
          "metadata": {},
          "execution_count": 17
        }
      ]
    },
    {
      "cell_type": "code",
      "source": [],
      "metadata": {
        "id": "EhuiSnCmxZ28"
      },
      "execution_count": null,
      "outputs": []
    }
  ]
}